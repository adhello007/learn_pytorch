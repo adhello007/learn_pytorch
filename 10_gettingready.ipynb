{
 "cells": [
  {
   "cell_type": "code",
   "execution_count": 1,
   "metadata": {},
   "outputs": [],
   "source": [
    "import torch"
   ]
  },
  {
   "cell_type": "markdown",
   "metadata": {},
   "source": [
    "Preparing & loading data "
   ]
  },
  {
   "cell_type": "code",
   "execution_count": 2,
   "metadata": {},
   "outputs": [],
   "source": [
    "#lets create some known data using the linear regression formula \n",
    "\n",
    "#we'll use a linear regression formula to make a straight line withknown parameters. "
   ]
  },
  {
   "cell_type": "code",
   "execution_count": 3,
   "metadata": {},
   "outputs": [
    {
     "data": {
      "text/plain": [
       "(tensor([[0.0000],\n",
       "         [0.0200],\n",
       "         [0.0400],\n",
       "         [0.0600],\n",
       "         [0.0800],\n",
       "         [0.1000],\n",
       "         [0.1200],\n",
       "         [0.1400],\n",
       "         [0.1600],\n",
       "         [0.1800],\n",
       "         [0.2000],\n",
       "         [0.2200],\n",
       "         [0.2400],\n",
       "         [0.2600],\n",
       "         [0.2800],\n",
       "         [0.3000],\n",
       "         [0.3200],\n",
       "         [0.3400],\n",
       "         [0.3600],\n",
       "         [0.3800],\n",
       "         [0.4000],\n",
       "         [0.4200],\n",
       "         [0.4400],\n",
       "         [0.4600],\n",
       "         [0.4800],\n",
       "         [0.5000],\n",
       "         [0.5200],\n",
       "         [0.5400],\n",
       "         [0.5600],\n",
       "         [0.5800],\n",
       "         [0.6000],\n",
       "         [0.6200],\n",
       "         [0.6400],\n",
       "         [0.6600],\n",
       "         [0.6800],\n",
       "         [0.7000],\n",
       "         [0.7200],\n",
       "         [0.7400],\n",
       "         [0.7600],\n",
       "         [0.7800],\n",
       "         [0.8000],\n",
       "         [0.8200],\n",
       "         [0.8400],\n",
       "         [0.8600],\n",
       "         [0.8800],\n",
       "         [0.9000],\n",
       "         [0.9200],\n",
       "         [0.9400],\n",
       "         [0.9600],\n",
       "         [0.9800]]),\n",
       " torch.Size([50, 1]))"
      ]
     },
     "execution_count": 3,
     "metadata": {},
     "output_type": "execute_result"
    }
   ],
   "source": [
    "weight = 0.7\n",
    "bias = 0.3 \n",
    "\n",
    "#create \n",
    "\n",
    "start =0\n",
    "end =1 \n",
    "step = 0.02 \n",
    "\n",
    "x = torch.arange(start,end,step).unsqueeze(dim=1)\n",
    "x,x.shape "
   ]
  },
  {
   "cell_type": "code",
   "execution_count": 4,
   "metadata": {},
   "outputs": [],
   "source": [
    "y = weight *  x + bias"
   ]
  },
  {
   "cell_type": "code",
   "execution_count": 5,
   "metadata": {},
   "outputs": [
    {
     "data": {
      "text/plain": [
       "torch.Size([50, 1])"
      ]
     },
     "execution_count": 5,
     "metadata": {},
     "output_type": "execute_result"
    }
   ],
   "source": [
    "y.shape\n"
   ]
  },
  {
   "cell_type": "code",
   "execution_count": 6,
   "metadata": {},
   "outputs": [
    {
     "data": {
      "text/plain": [
       "tensor([0.3000, 0.3140, 0.3280, 0.3420, 0.3560, 0.3700, 0.3840, 0.3980, 0.4120,\n",
       "        0.4260])"
      ]
     },
     "execution_count": 6,
     "metadata": {},
     "output_type": "execute_result"
    }
   ],
   "source": [
    "y[:10,0]"
   ]
  },
  {
   "cell_type": "markdown",
   "metadata": {},
   "source": [
    "#### Splitting data intoo training and test sets"
   ]
  },
  {
   "cell_type": "code",
   "execution_count": 7,
   "metadata": {},
   "outputs": [],
   "source": [
    "x_train, y_train = x[:40],y[:40]\n",
    "x_test, y_test = x[40:],y[40:]"
   ]
  },
  {
   "cell_type": "markdown",
   "metadata": {},
   "source": [
    "How to Visualize the data "
   ]
  },
  {
   "cell_type": "code",
   "execution_count": 8,
   "metadata": {},
   "outputs": [],
   "source": [
    "import matplotlib.pyplot as plt\n",
    "def plot_visualizer(train_data=x_train,\n",
    "                    train_labels = y_train,\n",
    "                    test_data = x_test,\n",
    "                    test_labels=y_test,\n",
    "                    predictions=None):\n",
    "    \n",
    "    plt.figure(figsize=(10,7))\n",
    "\n",
    "    plt.scatter(x_train,y_train,c='b',label=\"Training data\")\n",
    "    plt.scatter(x_test,y_test,c='g',label=\"Testing data\")\n",
    "\n",
    "    if predictions is not None:\n",
    "        plt.scatter(test_data,predictions, c='r')\n",
    "\n",
    "    plt.legend()"
   ]
  },
  {
   "cell_type": "code",
   "execution_count": 9,
   "metadata": {},
   "outputs": [
    {
     "data": {
      "image/png": "[encoded data removed]",
      "text/plain": [
       "<Figure size 1000x700 with 1 Axes>"
      ]
     },
     "metadata": {},
     "output_type": "display_data"
    }
   ],
   "source": [
    "plot_visualizer()\n"
   ]
  },
  {
   "cell_type": "markdown",
   "metadata": {},
   "source": [
    "## Build a pytorch model \n"
   ]
  },
  {
   "cell_type": "code",
   "execution_count": 10,
   "metadata": {},
   "outputs": [],
   "source": [
    "#creating a linear regression model class\n",
    "from torch import nn #basic building blocks for computational graphs \n",
    "class LinearRegression(nn.Module): #nn.Module is a base class of all pytorch models \n",
    "    def __init__(self):\n",
    "        super().__init__() #calling all parent class's state(its methods and attributes) for the subclass. \n",
    "        self.weights = torch.nn.Parameter(torch.randn(1,requires_grad=True,dtype=torch.float))\n",
    "        self.bias = torch.nn.Parameter(torch.randn(1,requires_grad=True,dtype=torch.float))\n",
    "\n",
    "    def forward(self, x: torch.Tensor) -> torch.Tensor: #x which is a torch tensor  and returns (->) a torch.tensor\n",
    "        return self.weights *x + self.bias \n",
    "\n"
   ]
  },
  {
   "cell_type": "markdown",
   "metadata": {},
   "source": [
    "torch.nn.Parameter(torch.randn(3,3)):\n",
    "\n",
    "Automatic Inclusion in Model Parameters: Any torch.nn.Parameter defined in a nn.Module subclass will be included in the model's parameters.\n",
    "\n",
    "Requires Gradients: These parameters will be optimized (i.e., have their gradients computed and updated) during the training process.\n",
    "\n",
    "Custom Learnable Parameters: It's especially useful for defining custom layers where you want to control what should be learned.\n"
   ]
  },
  {
   "cell_type": "code",
   "execution_count": 11,
   "metadata": {},
   "outputs": [
    {
     "data": {
      "text/plain": [
       "[Parameter containing:\n",
       " tensor([-0.1115], requires_grad=True),\n",
       " Parameter containing:\n",
       " tensor([0.1204], requires_grad=True)]"
      ]
     },
     "execution_count": 11,
     "metadata": {},
     "output_type": "execute_result"
    }
   ],
   "source": [
    "#checking the contents of our pytorch model \n",
    "# we can do that using .parameters()\n",
    "\n",
    "RANDOM_SEED = 123 \n",
    "torch.manual_seed(RANDOM_SEED)\n",
    "#now we will create an isntance of our moddel \n",
    "\n",
    "model_0 = LinearRegression()\n",
    "list(model_0.parameters())"
   ]
  },
  {
   "cell_type": "markdown",
   "metadata": {},
   "source": []
  },
  {
   "cell_type": "code",
   "execution_count": 12,
   "metadata": {},
   "outputs": [
    {
     "data": {
      "text/plain": [
       "OrderedDict([('weights', tensor([-0.1115])), ('bias', tensor([0.1204]))])"
      ]
     },
     "execution_count": 12,
     "metadata": {},
     "output_type": "execute_result"
    }
   ],
   "source": [
    "model_0.state_dict()"
   ]
  },
  {
   "cell_type": "code",
   "execution_count": 13,
   "metadata": {},
   "outputs": [
    {
     "data": {
      "text/plain": [
       "tensor([[0.8600],\n",
       "        [0.8740],\n",
       "        [0.8880],\n",
       "        [0.9020],\n",
       "        [0.9160],\n",
       "        [0.9300],\n",
       "        [0.9440],\n",
       "        [0.9580],\n",
       "        [0.9720],\n",
       "        [0.9860]])"
      ]
     },
     "execution_count": 13,
     "metadata": {},
     "output_type": "execute_result"
    }
   ],
   "source": [
    "y_test"
   ]
  },
  {
   "cell_type": "markdown",
   "metadata": {},
   "source": [
    "### Making Predictions using torch.inference_mode()"
   ]
  },
  {
   "cell_type": "code",
   "execution_count": 14,
   "metadata": {},
   "outputs": [
    {
     "data": {
      "text/plain": [
       "tensor([[0.0312],\n",
       "        [0.0290],\n",
       "        [0.0267],\n",
       "        [0.0245],\n",
       "        [0.0223],\n",
       "        [0.0200],\n",
       "        [0.0178],\n",
       "        [0.0156],\n",
       "        [0.0134],\n",
       "        [0.0111]])"
      ]
     },
     "execution_count": 14,
     "metadata": {},
     "output_type": "execute_result"
    }
   ],
   "source": [
    "with torch.inference_mode():\n",
    "    y_preds = model_0(x_test)\n",
    "\n",
    "y_preds"
   ]
  },
  {
   "cell_type": "code",
   "execution_count": 15,
   "metadata": {},
   "outputs": [
    {
     "data": {
      "image/png": "[encoded data removed]",
      "text/plain": [
       "<Figure size 1000x700 with 1 Axes>"
      ]
     },
     "metadata": {},
     "output_type": "display_data"
    }
   ],
   "source": [
    "#this is an untrained model.\n",
    "plot_visualizer(predictions=y_preds)"
   ]
  },
  {
   "cell_type": "code",
   "execution_count": 49,
   "metadata": {},
   "outputs": [
    {
     "data": {
      "text/plain": [
       "(tensor([[0.8635],\n",
       "         [0.8774],\n",
       "         [0.8914],\n",
       "         [0.9053],\n",
       "         [0.9192],\n",
       "         [0.9331],\n",
       "         [0.9471],\n",
       "         [0.9610],\n",
       "         [0.9749],\n",
       "         [0.9889]]),\n",
       " tensor([[0.8635],\n",
       "         [0.8774],\n",
       "         [0.8914],\n",
       "         [0.9053],\n",
       "         [0.9192],\n",
       "         [0.9331],\n",
       "         [0.9471],\n",
       "         [0.9610],\n",
       "         [0.9749],\n",
       "         [0.9889]]))"
      ]
     },
     "execution_count": 49,
     "metadata": {},
     "output_type": "execute_result"
    }
   ],
   "source": [
    "#Other ways to run inference/evaluation \n",
    "with torch.inference_mode():\n",
    "    y_preds = model_0(x_test)\n",
    "\n",
    "with torch.no_grad(): #you can also do something like this, however we should use inference_mode() as it is fast and does not keep track of other values in the computation graph\n",
    "    y_preds1 = model_0(x_test)\n",
    "\n",
    "model_0.eval() #sets the model into evaluation mode. Here, drop out layers, batch norm etc are disabled so that we can perform inference on the trained weights. \n",
    "y_preds, y_preds1"
   ]
  },
  {
   "cell_type": "markdown",
   "metadata": {},
   "source": [
    "Lets freakin Train our Model "
   ]
  },
  {
   "cell_type": "code",
   "execution_count": 16,
   "metadata": {},
   "outputs": [
    {
     "name": "stderr",
     "output_type": "stream",
     "text": [
      "/home/akshat/miniconda3/envs/ot/lib/python3.10/site-packages/tqdm/auto.py:21: TqdmWarning: IProgress not found. Please update jupyter and ipywidgets. See https://ipywidgets.readthedocs.io/en/stable/user_install.html\n",
      "  from .autonotebook import tqdm as notebook_tqdm\n",
      "/home/akshat/miniconda3/envs/ot/lib/python3.10/site-packages/transformers/utils/generic.py:441: UserWarning: torch.utils._pytree._register_pytree_node is deprecated. Please use torch.utils._pytree.register_pytree_node instead.\n",
      "  _torch_pytree._register_pytree_node(\n"
     ]
    }
   ],
   "source": [
    "loss_fn = nn.L1Loss() #this is the MAE \n",
    "\n",
    "optimizer = torch.optim.SGD(params=model_0.parameters(), lr=0.01)"
   ]
  },
  {
   "cell_type": "code",
   "execution_count": 17,
   "metadata": {},
   "outputs": [
    {
     "name": "stdout",
     "output_type": "stream",
     "text": [
      "the parameters are: OrderedDict([('weights', tensor([0.0702])), ('bias', tensor([0.4829]))])\n",
      "the parameters are: OrderedDict([('weights', tensor([0.1798])), ('bias', tensor([0.5104]))])\n",
      "the parameters are: OrderedDict([('weights', tensor([0.2682])), ('bias', tensor([0.4814]))])\n",
      "the parameters are: OrderedDict([('weights', tensor([0.3535])), ('bias', tensor([0.4454]))])\n",
      "the parameters are: OrderedDict([('weights', tensor([0.4389])), ('bias', tensor([0.4094]))])\n",
      "the parameters are: OrderedDict([('weights', tensor([0.5245])), ('bias', tensor([0.3739]))])\n",
      "the parameters are: OrderedDict([('weights', tensor([0.6099])), ('bias', tensor([0.3379]))])\n",
      "the parameters are: OrderedDict([('weights', tensor([0.6964])), ('bias', tensor([0.3064]))])\n",
      "the parameters are: OrderedDict([('weights', tensor([0.6964])), ('bias', tensor([0.3064]))])\n",
      "the parameters are: OrderedDict([('weights', tensor([0.6964])), ('bias', tensor([0.3064]))])\n"
     ]
    }
   ],
   "source": [
    "#Training Loop\n",
    "epochs = 50\n",
    "size=10\n",
    "for i in range(size):\n",
    "    for epoch in range(epochs):\n",
    "        #set the model to training model, but a model's default state is a training model \n",
    "        model_0.train() #sets all trainable parameters to requires_grad=True\n",
    "        y_pred = model_0(x_train)\n",
    "\n",
    "        #calculate loss \n",
    "        loss = loss_fn(y_pred,y_train)\n",
    "        \n",
    "        #zero_grad to zero out the gradients of this particular mini batch  \n",
    "        optimizer.zero_grad()\n",
    "\n",
    "        #calculate gradients \n",
    "        loss.backward()\n",
    "\n",
    "        #update the parameters\n",
    "        optimizer.step()\n",
    "    print(f\"the parameters are: {model_0.state_dict()}\")    \n"
   ]
  },
  {
   "cell_type": "code",
   "execution_count": 18,
   "metadata": {},
   "outputs": [
    {
     "data": {
      "text/plain": [
       "OrderedDict([('weights', tensor([0.6964])), ('bias', tensor([0.3064]))])"
      ]
     },
     "execution_count": 18,
     "metadata": {},
     "output_type": "execute_result"
    }
   ],
   "source": [
    "model_0.state_dict()"
   ]
  },
  {
   "cell_type": "code",
   "execution_count": 19,
   "metadata": {},
   "outputs": [],
   "source": [
    "model_0.eval()\n",
    "\n",
    "with torch.no_grad():\n",
    "    y_pred_new = model_0(x_test)"
   ]
  },
  {
   "cell_type": "code",
   "execution_count": 20,
   "metadata": {},
   "outputs": [
    {
     "data": {
      "image/png": "[encoded data removed]",
      "text/plain": [
       "<Figure size 1000x700 with 1 Axes>"
      ]
     },
     "metadata": {},
     "output_type": "display_data"
    }
   ],
   "source": [
    "plot_visualizer(predictions=y_pred_new)"
   ]
  },
  {
   "cell_type": "code",
   "execution_count": null,
   "metadata": {},
   "outputs": [],
   "source": []
  }
 ],
 "metadata": {
  "kernelspec": {
   "display_name": "ot",
   "language": "python",
   "name": "python3"
  },
  "language_info": {
   "codemirror_mode": {
    "name": "ipython",
    "version": 3
   },
   "file_extension": ".py",
   "mimetype": "text/x-python",
   "name": "python",
   "nbconvert_exporter": "python",
   "pygments_lexer": "ipython3",
   "version": "3.10.11"
  }
 },
 "nbformat": 4,
 "nbformat_minor": 2
}
