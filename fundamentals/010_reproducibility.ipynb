{
 "cells": [
  {
   "cell_type": "code",
   "execution_count": 4,
   "metadata": {},
   "outputs": [],
   "source": [
    "import torch "
   ]
  },
  {
   "cell_type": "code",
   "execution_count": 2,
   "metadata": {},
   "outputs": [],
   "source": [
    "#reproducibility is important in neural networks and in general you start with a bunch of random tensors. \n",
    "#How do we control that randomness. \n",
    "\n",
    "#we introduce something called as the *random seed* which flavours the randomness\n"
   ]
  },
  {
   "cell_type": "code",
   "execution_count": 5,
   "metadata": {},
   "outputs": [],
   "source": [
    "rand_tensora = torch.rand(3,4)\n",
    "rand_tensorb = torch.rand(3,4)"
   ]
  },
  {
   "cell_type": "code",
   "execution_count": 6,
   "metadata": {},
   "outputs": [
    {
     "data": {
      "text/plain": [
       "(tensor([[0.4428, 0.6821, 0.3664, 0.4990],\n",
       "         [0.2701, 0.2212, 0.7033, 0.1821],\n",
       "         [0.3628, 0.3052, 0.7857, 0.3721]]),\n",
       " tensor([[0.0216, 0.3284, 0.7494, 0.4905],\n",
       "         [0.1022, 0.1825, 0.8805, 0.1772],\n",
       "         [0.9769, 0.5014, 0.9426, 0.6399]]))"
      ]
     },
     "execution_count": 6,
     "metadata": {},
     "output_type": "execute_result"
    }
   ],
   "source": [
    "rand_tensora, rand_tensorb"
   ]
  },
  {
   "cell_type": "code",
   "execution_count": 8,
   "metadata": {},
   "outputs": [
    {
     "data": {
      "text/plain": [
       "(tensor([[0.4657, 0.2328, 0.4527, 0.5871],\n",
       "         [0.4086, 0.1272, 0.6373, 0.2421],\n",
       "         [0.7312, 0.7224, 0.1992, 0.6948]]),\n",
       " tensor([[0.5830, 0.6318, 0.5559, 0.1262],\n",
       "         [0.9790, 0.8443, 0.1256, 0.4456],\n",
       "         [0.6601, 0.0554, 0.1573, 0.8137]]))"
      ]
     },
     "execution_count": 8,
     "metadata": {},
     "output_type": "execute_result"
    }
   ],
   "source": [
    "#setting the seed \n",
    "\n",
    "RANDOM_SEED = 12\n",
    "torch.manual_seed(RANDOM_SEED)\n",
    "\n",
    "random_tesnorc = torch.rand(3,4) \n",
    "random_tesnord = torch.rand(3,4)\n",
    "random_tesnorc, random_tesnord #both this WONT work as manual seed applies to one block, where all tensors in that block are random. \n",
    "#if we reset the manual seed before creating tensor d then we can make sure they are the same. "
   ]
  },
  {
   "cell_type": "code",
   "execution_count": 11,
   "metadata": {},
   "outputs": [
    {
     "data": {
      "text/plain": [
       "tensor([[True, True, True, True],\n",
       "        [True, True, True, True],\n",
       "        [True, True, True, True]])"
      ]
     },
     "execution_count": 11,
     "metadata": {},
     "output_type": "execute_result"
    }
   ],
   "source": [
    "torch.manual_seed(RANDOM_SEED)\n",
    "random_tensor_1 = torch.rand(3,4)\n",
    "\n",
    "torch.manual_seed(RANDOM_SEED)\n",
    "random_tensor_2 = torch.rand(3,4)\n",
    "\n",
    "random_tensor_1 == random_tensor_2 #they are truly equal, each element is. "
   ]
  },
  {
   "cell_type": "code",
   "execution_count": null,
   "metadata": {},
   "outputs": [],
   "source": []
  }
 ],
 "metadata": {
  "kernelspec": {
   "display_name": "ot",
   "language": "python",
   "name": "python3"
  },
  "language_info": {
   "codemirror_mode": {
    "name": "ipython",
    "version": 3
   },
   "file_extension": ".py",
   "mimetype": "text/x-python",
   "name": "python",
   "nbconvert_exporter": "python",
   "pygments_lexer": "ipython3",
   "version": "3.10.11"
  }
 },
 "nbformat": 4,
 "nbformat_minor": 2
}
