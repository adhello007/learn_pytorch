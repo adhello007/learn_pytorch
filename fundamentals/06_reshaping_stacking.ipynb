{
 "cells": [
  {
   "cell_type": "code",
   "execution_count": 3,
   "metadata": {},
   "outputs": [],
   "source": [
    "\n",
    "import torch"
   ]
  },
  {
   "cell_type": "markdown",
   "metadata": {},
   "source": [
    "Reshaping, Stacking, Squeezing & Unsqueezing Tensors"
   ]
  },
  {
   "cell_type": "markdown",
   "metadata": {},
   "source": [
    "Reshaping: changing the shape of a tensor \n",
    "\n",
    "VIEW: Return a view of a tensor in a certain shape but have the memory as the original tensor \n",
    "\n",
    "Stacking : combine multiple tensors on top of each other  \n",
    "\n",
    "Squeeze : removes all '1' dimensions from a tensor \n",
    "\n",
    "Unsqueeze : adds a dimension to a target tensor \n",
    "Permute : Return a view of the input with dimensions permuted (swapped) in a certain way "
   ]
  },
  {
   "cell_type": "code",
   "execution_count": 1,
   "metadata": {},
   "outputs": [
    {
     "data": {
      "text/plain": [
       "(tensor([1., 2., 3., 4., 5., 6., 7., 8., 9.]), torch.Size([9]))"
      ]
     },
     "execution_count": 1,
     "metadata": {},
     "output_type": "execute_result"
    }
   ],
   "source": [
    "#lets create a tensor \n",
    "import torch \n",
    "x = torch.arange(1.,10.)\n",
    "x, x.shape"
   ]
  },
  {
   "cell_type": "code",
   "execution_count": 2,
   "metadata": {},
   "outputs": [
    {
     "data": {
      "text/plain": [
       "(tensor([[1.],\n",
       "         [2.],\n",
       "         [3.],\n",
       "         [4.],\n",
       "         [5.],\n",
       "         [6.],\n",
       "         [7.],\n",
       "         [8.],\n",
       "         [9.]]),\n",
       " torch.Size([9, 1]))"
      ]
     },
     "execution_count": 2,
     "metadata": {},
     "output_type": "execute_result"
    }
   ],
   "source": [
    "#Add an extra dimension \n",
    "\n",
    "x_reshaped = x.reshape(9,1) #be careful, you have to fit the numbers in a shape that can hold that many numbers. \n",
    "x_reshaped, x_reshaped.shape"
   ]
  },
  {
   "cell_type": "code",
   "execution_count": 5,
   "metadata": {},
   "outputs": [
    {
     "data": {
      "text/plain": [
       "(tensor([[1., 2., 3., 4., 5., 6., 7., 8., 9.]]), torch.Size([1, 9]))"
      ]
     },
     "execution_count": 5,
     "metadata": {},
     "output_type": "execute_result"
    }
   ],
   "source": [
    "#Change the view : \n",
    "\n",
    "z = x.view(1,9)\n",
    "z, z.shape"
   ]
  },
  {
   "cell_type": "markdown",
   "metadata": {},
   "source": [
    "Z has the memory of x. Changing Z changes x. \n"
   ]
  },
  {
   "cell_type": "code",
   "execution_count": 6,
   "metadata": {},
   "outputs": [
    {
     "data": {
      "text/plain": [
       "tensor([[1., 2., 3., 4., 5., 6., 7., 8., 9.]])"
      ]
     },
     "execution_count": 6,
     "metadata": {},
     "output_type": "execute_result"
    }
   ],
   "source": [
    "z[:,0] =1 #all row's first element. \n",
    "z"
   ]
  },
  {
   "cell_type": "markdown",
   "metadata": {},
   "source": [
    "Stacking"
   ]
  },
  {
   "cell_type": "code",
   "execution_count": 7,
   "metadata": {},
   "outputs": [
    {
     "data": {
      "text/plain": [
       "(tensor([[ 2,  4,  6],\n",
       "         [ 4,  8, 12]]),\n",
       " torch.Size([2, 3]))"
      ]
     },
     "execution_count": 7,
     "metadata": {},
     "output_type": "execute_result"
    }
   ],
   "source": [
    "#Stacking \n",
    "a = torch.tensor([[2,4,6],\n",
    "                  [4,8,12]])\n",
    "a, a.shape"
   ]
  },
  {
   "cell_type": "code",
   "execution_count": 8,
   "metadata": {},
   "outputs": [
    {
     "data": {
      "text/plain": [
       "(tensor([[[ 2,  4,  6],\n",
       "          [ 4,  8, 12]],\n",
       " \n",
       "         [[ 2,  4,  6],\n",
       "          [ 4,  8, 12]],\n",
       " \n",
       "         [[ 2,  4,  6],\n",
       "          [ 4,  8, 12]]]),\n",
       " torch.Size([3, 2, 3]))"
      ]
     },
     "execution_count": 8,
     "metadata": {},
     "output_type": "execute_result"
    }
   ],
   "source": [
    "a_stacked = torch.stack([a,a,a],dim=0)\n",
    "a_stacked, a_stacked.shape"
   ]
  },
  {
   "cell_type": "code",
   "execution_count": 9,
   "metadata": {},
   "outputs": [
    {
     "data": {
      "text/plain": [
       "(tensor([[[ 2,  4,  6],\n",
       "          [ 2,  4,  6],\n",
       "          [ 2,  4,  6]],\n",
       " \n",
       "         [[ 4,  8, 12],\n",
       "          [ 4,  8, 12],\n",
       "          [ 4,  8, 12]]]),\n",
       " torch.Size([2, 3, 3]))"
      ]
     },
     "execution_count": 9,
     "metadata": {},
     "output_type": "execute_result"
    }
   ],
   "source": [
    "a_stacked1 = torch.stack([a,a,a],dim=1)\n",
    "a_stacked1, a_stacked1.shape"
   ]
  },
  {
   "cell_type": "code",
   "execution_count": 10,
   "metadata": {},
   "outputs": [
    {
     "data": {
      "text/plain": [
       "(tensor([[[ 2,  2,  2],\n",
       "          [ 4,  4,  4],\n",
       "          [ 6,  6,  6]],\n",
       " \n",
       "         [[ 4,  4,  4],\n",
       "          [ 8,  8,  8],\n",
       "          [12, 12, 12]]]),\n",
       " torch.Size([2, 3, 3]))"
      ]
     },
     "execution_count": 10,
     "metadata": {},
     "output_type": "execute_result"
    }
   ],
   "source": [
    "a_stacked2 = torch.stack([a,a,a],dim=2)\n",
    "a_stacked2, a_stacked2.shape"
   ]
  },
  {
   "cell_type": "code",
   "execution_count": 11,
   "metadata": {},
   "outputs": [
    {
     "data": {
      "text/plain": [
       "(tensor([[[ 2,  2,  2],\n",
       "          [ 4,  4,  4],\n",
       "          [ 6,  6,  6]],\n",
       " \n",
       "         [[ 4,  4,  4],\n",
       "          [ 8,  8,  8],\n",
       "          [12, 12, 12]]]),\n",
       " torch.Size([2, 3, 3]))"
      ]
     },
     "execution_count": 11,
     "metadata": {},
     "output_type": "execute_result"
    }
   ],
   "source": [
    "a_stacked3 = torch.stack([a,a,a],dim=-1)\n",
    "a_stacked3, a_stacked3.shape"
   ]
  },
  {
   "cell_type": "code",
   "execution_count": null,
   "metadata": {},
   "outputs": [],
   "source": []
  },
  {
   "cell_type": "code",
   "execution_count": null,
   "metadata": {},
   "outputs": [],
   "source": []
  }
 ],
 "metadata": {
  "kernelspec": {
   "display_name": "ot",
   "language": "python",
   "name": "python3"
  },
  "language_info": {
   "codemirror_mode": {
    "name": "ipython",
    "version": 3
   },
   "file_extension": ".py",
   "mimetype": "text/x-python",
   "name": "python",
   "nbconvert_exporter": "python",
   "pygments_lexer": "ipython3",
   "version": "3.10.11"
  }
 },
 "nbformat": 4,
 "nbformat_minor": 2
}
